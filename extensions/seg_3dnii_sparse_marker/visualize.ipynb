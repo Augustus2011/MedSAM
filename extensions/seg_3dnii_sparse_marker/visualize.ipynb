{
 "cells": [
  {
   "cell_type": "code",
   "execution_count": 6,
   "metadata": {},
   "outputs": [],
   "source": [
    "\n",
    "import os\n",
    "import SimpleITK as sitk\n",
    "import numpy as np\n",
    "from collections import OrderedDict\n",
    "from scipy.ndimage import distance_transform_edt\n",
    "from scipy.interpolate import interp1d\n",
    "\n",
    "join = os.path.join"
   ]
  },
  {
   "cell_type": "code",
   "execution_count": 51,
   "metadata": {},
   "outputs": [],
   "source": [
    "marker_dir = 'marker-expert1'\n",
    "save_dir = marker_dir + '_interpolated_test'\n",
    "os.makedirs(save_dir, exist_ok=True)\n",
    "names = sorted(os.listdir(marker_dir))\n",
    "names = [name for name in names if name.endswith('.nii.gz')]\n",
    "\n",
    "name=names[0]\n",
    "nii = sitk.ReadImage(join(marker_dir, name)) \n",
    "marker_data = np.uint8(sitk.GetArrayFromImage(nii)) #(731, 512, 512)\n",
    "box_data = np.zeros_like(marker_data, dtype=np.uint8)\n",
    "label_ids = np.unique(marker_data)[1:]"
   ]
  },
  {
   "cell_type": "code",
   "execution_count": 53,
   "metadata": {},
   "outputs": [],
   "source": [
    "\n",
    "def interpolate_labels(label_volume):\n",
    "    depth, height, width = label_volume.shape\n",
    "\n",
    "    interpolated_labels = np.zeros((depth, height, width), dtype=label_volume.dtype)\n",
    "\n",
    "\n",
    "    # Loop through each unique label in the label volume\n",
    "    for label in np.unique(label_volume):\n",
    "        if label == 0:  # Skip background\n",
    "            continue\n",
    "        \n",
    "        # Create a binary mask for the current label\n",
    "        binary_mask = (label_volume == label)\n",
    "        \n",
    "        # Extract slices with the current label\n",
    "        labeled_slices = [i for i in range(depth) if np.any(binary_mask[i])]\n",
    "        \n",
    "        if len(labeled_slices) < 2:  # At least two slices are needed for interpolation\n",
    "            continue\n",
    "        \n",
    "        # Initialize array to hold distances for the slices\n",
    "        distances = np.zeros((depth, height, width))\n",
    "        \n",
    "        # Calculate distances from object border for each labeled slice\n",
    "        for i in labeled_slices:\n",
    "            distances[i] = distance_transform_edt(np.logical_not(binary_mask[i]))\n",
    "        \n",
    "        # Create an interpolating function\n",
    "        f = interp1d(labeled_slices, [distances[i] for i in labeled_slices],\n",
    "                        axis=0, kind='linear', bounds_error=False, fill_value=\"extrapolate\")\n",
    "        \n",
    "        # Interpolate\n",
    "        for i, next_slice in zip(labeled_slices[:-1], labeled_slices[1:]):\n",
    "            interpolated_slices = np.round(f(np.arange(i, next_slice + 1))).astype(int)\n",
    "            \n",
    "            # Update label\n",
    "            interpolated_labels[i:next_slice + 1][interpolated_slices <= 0] = label\n",
    "\n",
    "    return interpolated_labels\n",
    "\n"
   ]
  },
  {
   "cell_type": "code",
   "execution_count": 54,
   "metadata": {},
   "outputs": [],
   "source": [
    "def get_bbox(mask, bbox_shift=5):\n",
    "    y_indices, x_indices = np.where(mask > 0)\n",
    "    x_min, x_max = np.min(x_indices), np.max(x_indices)\n",
    "    y_min, y_max = np.min(y_indices), np.max(y_indices)\n",
    "    # add perturbation to bounding box coordinates\n",
    "    H, W = mask.shape\n",
    "    x_min = max(0, x_min - bbox_shift)\n",
    "    x_max = min(W, x_max + bbox_shift)\n",
    "    y_min = max(0, y_min - bbox_shift)\n",
    "    y_max = min(H, y_max + bbox_shift)\n",
    "    bboxes = np.array([x_min, y_min, x_max, y_max])\n",
    "\n",
    "    return bboxes"
   ]
  },
  {
   "cell_type": "code",
   "execution_count": 59,
   "metadata": {},
   "outputs": [
    {
     "data": {
      "text/plain": [
       "array([[[0, 0, 0, ..., 0, 0, 0],\n",
       "        [0, 0, 0, ..., 0, 0, 0],\n",
       "        [0, 0, 0, ..., 0, 0, 0],\n",
       "        ...,\n",
       "        [0, 0, 0, ..., 0, 0, 0],\n",
       "        [0, 0, 0, ..., 0, 0, 0],\n",
       "        [0, 0, 0, ..., 0, 0, 0]],\n",
       "\n",
       "       [[0, 0, 0, ..., 0, 0, 0],\n",
       "        [0, 0, 0, ..., 0, 0, 0],\n",
       "        [0, 0, 0, ..., 0, 0, 0],\n",
       "        ...,\n",
       "        [0, 0, 0, ..., 0, 0, 0],\n",
       "        [0, 0, 0, ..., 0, 0, 0],\n",
       "        [0, 0, 0, ..., 0, 0, 0]],\n",
       "\n",
       "       [[0, 0, 0, ..., 0, 0, 0],\n",
       "        [0, 0, 0, ..., 0, 0, 0],\n",
       "        [0, 0, 0, ..., 0, 0, 0],\n",
       "        ...,\n",
       "        [0, 0, 0, ..., 0, 0, 0],\n",
       "        [0, 0, 0, ..., 0, 0, 0],\n",
       "        [0, 0, 0, ..., 0, 0, 0]],\n",
       "\n",
       "       ...,\n",
       "\n",
       "       [[0, 0, 0, ..., 0, 0, 0],\n",
       "        [0, 0, 0, ..., 0, 0, 0],\n",
       "        [0, 0, 0, ..., 0, 0, 0],\n",
       "        ...,\n",
       "        [0, 0, 0, ..., 0, 0, 0],\n",
       "        [0, 0, 0, ..., 0, 0, 0],\n",
       "        [0, 0, 0, ..., 0, 0, 0]],\n",
       "\n",
       "       [[0, 0, 0, ..., 0, 0, 0],\n",
       "        [0, 0, 0, ..., 0, 0, 0],\n",
       "        [0, 0, 0, ..., 0, 0, 0],\n",
       "        ...,\n",
       "        [0, 0, 0, ..., 0, 0, 0],\n",
       "        [0, 0, 0, ..., 0, 0, 0],\n",
       "        [0, 0, 0, ..., 0, 0, 0]],\n",
       "\n",
       "       [[0, 0, 0, ..., 0, 0, 0],\n",
       "        [0, 0, 0, ..., 0, 0, 0],\n",
       "        [0, 0, 0, ..., 0, 0, 0],\n",
       "        ...,\n",
       "        [0, 0, 0, ..., 0, 0, 0],\n",
       "        [0, 0, 0, ..., 0, 0, 0],\n",
       "        [0, 0, 0, ..., 0, 0, 0]]], dtype=uint8)"
      ]
     },
     "execution_count": 59,
     "metadata": {},
     "output_type": "execute_result"
    }
   ],
   "source": [
    "box_data"
   ]
  },
  {
   "cell_type": "code",
   "execution_count": 62,
   "metadata": {},
   "outputs": [
    {
     "data": {
      "text/plain": [
       "array([[[0, 0, 0, ..., 0, 0, 0],\n",
       "        [0, 0, 0, ..., 0, 0, 0],\n",
       "        [0, 0, 0, ..., 0, 0, 0],\n",
       "        ...,\n",
       "        [0, 0, 0, ..., 0, 0, 0],\n",
       "        [0, 0, 0, ..., 0, 0, 0],\n",
       "        [0, 0, 0, ..., 0, 0, 0]],\n",
       "\n",
       "       [[0, 0, 0, ..., 0, 0, 0],\n",
       "        [0, 0, 0, ..., 0, 0, 0],\n",
       "        [0, 0, 0, ..., 0, 0, 0],\n",
       "        ...,\n",
       "        [0, 0, 0, ..., 0, 0, 0],\n",
       "        [0, 0, 0, ..., 0, 0, 0],\n",
       "        [0, 0, 0, ..., 0, 0, 0]],\n",
       "\n",
       "       [[0, 0, 0, ..., 0, 0, 0],\n",
       "        [0, 0, 0, ..., 0, 0, 0],\n",
       "        [0, 0, 0, ..., 0, 0, 0],\n",
       "        ...,\n",
       "        [0, 0, 0, ..., 0, 0, 0],\n",
       "        [0, 0, 0, ..., 0, 0, 0],\n",
       "        [0, 0, 0, ..., 0, 0, 0]],\n",
       "\n",
       "       ...,\n",
       "\n",
       "       [[0, 0, 0, ..., 0, 0, 0],\n",
       "        [0, 0, 0, ..., 0, 0, 0],\n",
       "        [0, 0, 0, ..., 0, 0, 0],\n",
       "        ...,\n",
       "        [0, 0, 0, ..., 0, 0, 0],\n",
       "        [0, 0, 0, ..., 0, 0, 0],\n",
       "        [0, 0, 0, ..., 0, 0, 0]],\n",
       "\n",
       "       [[0, 0, 0, ..., 0, 0, 0],\n",
       "        [0, 0, 0, ..., 0, 0, 0],\n",
       "        [0, 0, 0, ..., 0, 0, 0],\n",
       "        ...,\n",
       "        [0, 0, 0, ..., 0, 0, 0],\n",
       "        [0, 0, 0, ..., 0, 0, 0],\n",
       "        [0, 0, 0, ..., 0, 0, 0]],\n",
       "\n",
       "       [[0, 0, 0, ..., 0, 0, 0],\n",
       "        [0, 0, 0, ..., 0, 0, 0],\n",
       "        [0, 0, 0, ..., 0, 0, 0],\n",
       "        ...,\n",
       "        [0, 0, 0, ..., 0, 0, 0],\n",
       "        [0, 0, 0, ..., 0, 0, 0],\n",
       "        [0, 0, 0, ..., 0, 0, 0]]], dtype=uint8)"
      ]
     },
     "execution_count": 62,
     "metadata": {},
     "output_type": "execute_result"
    }
   ],
   "source": [
    "(marker_data==label_ids).astype(np.uint8)"
   ]
  },
  {
   "cell_type": "code",
   "execution_count": 56,
   "metadata": {},
   "outputs": [
    {
     "name": "stdout",
     "output_type": "stream",
     "text": [
      "label ids: [1]\n",
      "z indices: [348 350 354 357 360 363 366 369 372 376 381 386 390 394 399 403 407 411\n",
      " 418 424 434 440 445 450 454 458 463 466 468 472 476 479 483 485 487 489\n",
      " 490]\n",
      "label ids: [1]\n",
      "z indices: [ 73  75  78  80  83  86  89  92  96  98 101 103 106 108 111 114 117 119\n",
      " 121 123 124 125]\n",
      "label ids: [1]\n",
      "z indices: [110 114 117 123 128 134 138 142 146 151 155 157 159 160 163 164 165]\n",
      "label ids: [1]\n",
      "z indices: [ 48  50  52  54  57  59  64  69  73  76  81  84  88  92  97  98 102 106\n",
      " 109 110 111]\n",
      "label ids: [1]\n",
      "z indices: [102 104 106 110 116 117 120 124 128 131 134 137 140 143 146 149 151]\n",
      "label ids: [1]\n",
      "z indices: [18 20 21 22 26 29 31 33 35 37 39 40 41 42]\n",
      "label ids: [1 2 3]\n",
      "z indices: [ 34  35  37  39  41  43  45  47  50  52  56  58  61  64  66  68  70  75\n",
      "  78  80  83  86  89  92  94  96 100 103 105 106]\n",
      "z indices: [41 43]\n",
      "z indices: [92 94 96]\n",
      "label ids: [1]\n",
      "z indices: [ 86  88  92  95 100 104 109 112 115 120 124 128 130 134 136 139 142 145\n",
      " 151 153 157 159 163 165 169 172 175 177]\n",
      "label ids: [1]\n",
      "z indices: [ 50  52  55  57  61  64  66  69  72  76  82  84  87  90  92  93  96  99\n",
      " 103 107 112 116 118 119]\n",
      "label ids: [1]\n",
      "z indices: [ 63  65  67  69  72  75  78  80  84  86  89  92  95  97 100 103 106 109\n",
      " 112 114 116 118 120 123 126 128 131 132]\n"
     ]
    }
   ],
   "source": [
    "for name in names:\n",
    "    nii = sitk.ReadImage(join(marker_dir, name))\n",
    "    marker_data = np.uint8(sitk.GetArrayFromImage(nii))\n",
    "    box_data = np.zeros_like(marker_data, dtype=np.uint8)\n",
    "    label_ids = np.unique(marker_data)[1:]\n",
    "    print(f'label ids: {label_ids}')\n",
    "    for label_id in label_ids:\n",
    "        marker_data_id = (marker_data == label_id).astype(np.uint8)\n",
    "        marker_zids, _, _ = np.where(marker_data_id > 0)\n",
    "        marker_zids = np.sort(np.unique(marker_zids))\n",
    "        print(f'z indices: {marker_zids}')\n",
    "        # bbox_dict = {} # key: z_index, value: bbox\n",
    "        for z in marker_zids:\n",
    "            # get bbox for each slice\n",
    "            z_box = get_bbox(marker_data_id[z, :, :], bbox_shift=5)\n",
    "            box_data[z, z_box[1]:z_box[3], z_box[0]:z_box[2]] = label_id\n",
    "    # interpolate labels\n",
    "    interpolated_labels = interpolate_labels(box_data)\n",
    "    # save interpolated labels\n",
    "    save_name = name# .replace('.nii.gz', '_interpolated.nii.gz')\n",
    "    save_path = join(save_dir, save_name)\n",
    "    save_sitk = sitk.GetImageFromArray(interpolated_labels)\n",
    "    # add meta information\n",
    "    save_sitk.CopyInformation(nii)\n",
    "    sitk.WriteImage(save_sitk, save_path)\n"
   ]
  },
  {
   "cell_type": "code",
   "execution_count": 69,
   "metadata": {},
   "outputs": [],
   "source": [
    "import nibabel as nib\n",
    "import numpy as np\n",
    "from stl import mesh\n",
    "from skimage import measure"
   ]
  },
  {
   "cell_type": "code",
   "execution_count": 71,
   "metadata": {},
   "outputs": [],
   "source": [
    "file_path = 'medsam_seg_expert1/Adrenal_Ki67_Seg_010.nii.gz'\n",
    "\n",
    "nifti_file = nib.load(file_path)\n",
    "np_array = nifti_file.get_fdata()\n",
    "\n",
    "verts, faces, normals, values = measure.marching_cubes(np_array, 0)\n",
    "\n",
    "obj_3d = mesh.Mesh(np.zeros(faces.shape[0], dtype=mesh.Mesh.dtype))\n",
    "\n",
    "for i, f in enumerate(faces):\n",
    "    obj_3d.vectors[i] = verts[f]"
   ]
  },
  {
   "cell_type": "code",
   "execution_count": 72,
   "metadata": {},
   "outputs": [],
   "source": [
    "obj_3d.save(\"Adrenal_Ki67_Seg_010.stl\")"
   ]
  },
  {
   "cell_type": "code",
   "execution_count": null,
   "metadata": {},
   "outputs": [],
   "source": []
  }
 ],
 "metadata": {
  "kernelspec": {
   "display_name": "Python 3",
   "language": "python",
   "name": "python3"
  },
  "language_info": {
   "codemirror_mode": {
    "name": "ipython",
    "version": 3
   },
   "file_extension": ".py",
   "mimetype": "text/x-python",
   "name": "python",
   "nbconvert_exporter": "python",
   "pygments_lexer": "ipython3",
   "version": "3.11.1"
  }
 },
 "nbformat": 4,
 "nbformat_minor": 2
}
